{
 "cells": [
  {
   "cell_type": "markdown",
   "metadata": {
    "application/vnd.databricks.v1+cell": {
     "cellMetadata": {},
     "inputWidgets": {},
     "nuid": "02361ee3-9521-4fb5-b16e-64987849fcb5",
     "showTitle": false,
     "tableResultSettingsMap": {},
     "title": ""
    }
   },
   "source": [
    "**Usage of the backshift operator**\n",
    "\n",
    "When writing an autoregressive function such as \\\\(x_t= \\phi_1 x_{t-1}+\\phi_2 x_{t-2} .. \\phi_p x_{t-p}\\\\) it is convenient to have some kind of shorthand.\n",
    "\n",
    "Instead it is possible to write $$(1 - \\phi_1 B - \\phi_2 B^2 - ... - \\phi_p B^p)x_t=w_t$$\n",
    "\n",
    "Or more concisely\n",
    "\n",
    "$$ \\phi(B)x_t=w_t $$\n",
    "\n",
    "** Definition - The autoregressive operator**\n",
    "\n",
    "The autoregressive operator is defined as \n",
    "\n",
    "$$\\phi(B)=1 - \\phi_1 B - \\phi_2 B^2 - ... - \\phi_p B^p$$"
   ]
  }
 ],
 "metadata": {
  "application/vnd.databricks.v1+notebook": {
   "computePreferences": null,
   "dashboards": [],
   "environmentMetadata": {
    "base_environment": "",
    "environment_version": "2"
   },
   "inputWidgetPreferences": null,
   "language": "python",
   "notebookMetadata": {
    "pythonIndentUnit": 4
   },
   "notebookName": "Backshift operator",
   "widgets": {}
  },
  "language_info": {
   "name": "python"
  }
 },
 "nbformat": 4,
 "nbformat_minor": 0
}
