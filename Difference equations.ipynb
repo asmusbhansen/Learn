{
 "cells": [
  {
   "cell_type": "markdown",
   "metadata": {
    "application/vnd.databricks.v1+cell": {
     "cellMetadata": {
      "byteLimit": 2048000,
      "rowLimit": 10000
     },
     "inputWidgets": {},
     "nuid": "e8916917-9b69-4354-a305-9f35f2901575",
     "showTitle": false,
     "tableResultSettingsMap": {},
     "title": ""
    }
   },
   "source": [
    "\n",
    "**Definition - Difference equation**\n",
    "\n",
    "Consider a sequence of numbers \\\\(u_0, u_1, u_2...\\\\) which is related by the equation \n",
    "\n",
    "$$u_{n} - \\alpha u_{n-1} = 0$$\n",
    "\n",
    "Where \\\\(\\alpha\\\\) is not 0 and \\\\(n=1,2,..\\\\)\n",
    "\n",
    "This is a first order difference equation\n",
    "\n",
    "To solve a difference equation we need an initial condition \\\\(u_0=c\\\\) to write\n",
    "\n",
    "$$u_1 = \\alpha u_2$$\n",
    "\n",
    "And iterating all the way up to \\\\(u_n\\\\)\n",
    "\n",
    "$$u_n = \\alpha^n u_0 = \\alpha^n c$$\n",
    "\n",
    "The difference equation can be rewritten in operator notation\n",
    "\n",
    "$$u_n - \\alpha u_{n-1} = (1-\\alpha B ) u_n$$\n",
    "\n",
    "Here the polynomial for the equation is \\\\( \\alpha(z) = 1 - \\alpha z\\\\) with the first root \\\\(z_0=\\frac{1}{\\alpha}\\\\).\n",
    "\n",
    "The root can be inserted into \\\\(u_n = \\alpha^n c\\\\) to write a solution in terms of the first root \\\\(z_0\\\\).\n",
    "\n",
    "$$u_n = (z_0^{-1})^n c$$\n",
    "\n",
    "Here it is seen that a solution to a first order difference equation dependes entirely on the initial condition and the inverse of the root.\n",
    "\n"
   ]
  },
  {
   "cell_type": "markdown",
   "metadata": {
    "application/vnd.databricks.v1+cell": {
     "cellMetadata": {
      "byteLimit": 2048000,
      "rowLimit": 10000
     },
     "inputWidgets": {},
     "nuid": "8e397908-98c2-4273-ba36-a6fcc8763125",
     "showTitle": false,
     "tableResultSettingsMap": {},
     "title": ""
    }
   },
   "source": [
    "**Definition - General solutions to difference equations**\n",
    "\n",
    "From Time Series Analysis and Its Applications, Shumway & Stoffer page 98 it can be seen that general solutions to difference equations can be obtained.\n",
    "\n",
    "For a second order difference equation, if \\\\(z_0\\\\) and \\\\(z_1\\\\) are not the same the general solution is\n",
    "\n",
    "$$u_n  = c_0 z_0^{-n} + c_0 z_1^{-n}$$\n",
    "\n",
    "When \\\\(z_0=z_1\\\\) a general solution will be \n",
    "\n",
    "$$u_n  = z_0^{-n}(c_0 + c_1 n)$$\n",
    "\n",
    "For these real cases, where the system is causal(\\\\(|z|>1\\\\)) the value of \\\\(u_n\\\\) will decrease exponentially.\n",
    "\n",
    "When the roots are complex we will have a conjugate pair, since the value are real.\n",
    "\n",
    "\\\\(z_0 = \\alpha + \\beta j\\\\) and \\\\(z_1 = \\alpha - \\beta j\\\\)\n",
    "\n",
    "And the general solution will be \n",
    "\n",
    "$$ u_n = |z|^n(c_1 cos(n \\theta)+c_2 sin(n \\theta)) $$\n",
    "\n",
    "Where \\\\(c_1\\\\) and \\\\(c_2\\\\) are constants determined by initial conditions and \\\\(\\theta=tan^{-1}(\\beta/\\alpha)\\\\)\n",
    "\n",
    "For these complex case, where the system is causal(\\\\(|z|>1\\\\)) the value of \\\\(u_n\\\\) will be a sinusoid with amplitude decreasing exponentially."
   ]
  },
  {
   "cell_type": "markdown",
   "metadata": {
    "application/vnd.databricks.v1+cell": {
     "cellMetadata": {
      "byteLimit": 2048000,
      "rowLimit": 10000
     },
     "inputWidgets": {},
     "nuid": "dd047297-d007-4c28-b159-1f195f5c393a",
     "showTitle": false,
     "tableResultSettingsMap": {},
     "title": ""
    }
   },
   "source": [
    "\n",
    "**Example - ACF of AR(2) using difference equations**\n",
    "\n",
    "Given a **AR**(2) process \n",
    "\n",
    "$$x_t = \\phi_1 x_{t-1} + \\phi_2 x_{t-2} + w_t$$\n",
    "\n",
    "We can find the autocovariance by multiplying each side with \\\\(x_{t-h}\\\\) and taking the expectation\n",
    "\n",
    "$$E[x_t x_{t-h}] = \\phi_1 E[x_{t-1} x_{t-h}] + \\phi_2 E[x_{t-2} x_{t-h}] + E[w_t x_{t-h}]$$\n",
    "\n",
    "Since \\\\(\\gamma(h)=E[x_t x_{t-h}]\\\\) and \\\\(E[w_t x_{t-h}] = 0\\\\) we write\n",
    "\n",
    "$$\\gamma(h) = \\phi_1 \\gamma(h-1) + \\phi_2 \\gamma(h-2)$$\n",
    "\n",
    "To obtain the ACF, we divide through on both sides with \\\\(\\gamma(0)\\\\)\n",
    "\n",
    "$$\\rho(h) = \\phi_1 \\rho(h-1) + \\phi_2 \\rho(h-2)$$\n",
    "\n",
    "By definition the ACF has \\\\(\\rho(0)=1\\\\) since \\\\(\\rho(h)=\\frac{\\lambda(h)}{\\lambda(0)}\\\\) and \\\\(\\rho(-1) = \\rho(1)\\\\)\n",
    "\n",
    "When \\\\(h=1\\\\) the other initial condition(\\\\(\\rho(0)=1\\\\) being the first) can be found as \n",
    "\n",
    "$$\\rho(1) - \\phi_1 \\rho(0) - \\phi_2 \\rho(-1) = \\rho(1) - \\phi_1 - \\phi_2 \\rho(1) = \\rho(1) (1 - \\phi_2) - \\phi_1 = 0 $$\n",
    "\n",
    "$$ \\rho(1) = \\frac{\\phi_1}{(1 - \\phi_2)}$$\n",
    "\n",
    "When \\\\(h>1\\\\) the value can be found by using the difference equation itself and the previous values.\n"
   ]
  },
  {
   "cell_type": "code",
   "execution_count": 0,
   "metadata": {
    "application/vnd.databricks.v1+cell": {
     "cellMetadata": {
      "byteLimit": 2048000,
      "rowLimit": 10000
     },
     "inputWidgets": {},
     "nuid": "5703f7c8-f95e-4906-9d63-eeda0b4fb2c2",
     "showTitle": false,
     "tableResultSettingsMap": {},
     "title": ""
    }
   },
   "outputs": [],
   "source": [
    "## Example ACF of AR(2) process with real roots\n",
    "# (1-0.4z)(1-0.3z) = 1 - 0.7z + 0.12z^2\n",
    "# phi_1 = 0.7, phi_2 = 0.12\n",
    "\n",
    "import numpy as np\n",
    "import matplotlib.pyplot as plt\n",
    "from statsmodels.tsa.stattools import acf\n",
    "\n",
    "N = 100000\n",
    "\n",
    "mu, sigma = 0, 1\n",
    "phi_1, phi_2 = 0.7, 0.12\n",
    "w = np.random.normal(mu, sigma, N)\n",
    "x = np.zeros(N)\n",
    "\n",
    "for i in range(2, N):\n",
    "    x[i] = phi_1 * x[i-1] + phi_2 * x[i-2] + w[i]\n",
    "\n",
    "# Theoretical values of autocorrelation according to previous example\n",
    "def theoretical_acf(lag, phi_1, phi_2):\n",
    "    if lag == 0:\n",
    "        return 1\n",
    "    elif lag == 1:\n",
    "        return phi_1/(1-phi_2)\n",
    "    else:\n",
    "        return phi_1 * theoretical_acf(lag-1, phi_1, phi_2) + phi_2 * theoretical_acf(lag-2, phi_1, phi_2)\n",
    "\n",
    "plot_lags = 20\n",
    "\n",
    "plt.figure()\n",
    "plt.plot(acf(x, nlags=plot_lags), \"-*\", label=\"Calculated value\")\n",
    "plt.scatter([lag for lag in range(plot_lags+1)],[theoretical_acf(lag, phi_1, phi_2) for lag in range(plot_lags+1)], color=\"red\", label=\"Theoretical value\")\n",
    "plt.title(f\"Autocorrelation of AR(2)\")\n",
    "plt.xlabel(\"Lag\")\n",
    "plt.ylabel(\"Value\")\n",
    "plt.legend()"
   ]
  },
  {
   "cell_type": "markdown",
   "metadata": {
    "application/vnd.databricks.v1+cell": {
     "cellMetadata": {
      "byteLimit": 2048000,
      "rowLimit": 10000
     },
     "inputWidgets": {},
     "nuid": "3363a213-ee8e-44d6-9da2-3ef42305157f",
     "showTitle": false,
     "tableResultSettingsMap": {},
     "title": ""
    }
   },
   "source": [
    "**Example - AR(2) process with complex roots**\n",
    "\n",
    "Consider the **AR**(2) process \\\\(x_t=1.5x_{t-1}-0.75x_{t-2}+w_t\\\\)\n",
    "\n",
    "This has the charateristic equation \\\\(\\phi(z)=1-1.5z+0.75z^2\\\\) \n",
    "\n",
    "Solving this yields the roots \\\\(z_0=1 - 0.57735j\\\\) and \\\\(z_1=1 + 0.57735j\\\\)\n",
    "\n",
    "Finding the argument \\\\(\\theta = tan^{-1}(0.57735/1)=0.523599 [rad]\\\\)\n",
    "\n",
    "Since a sinusoid repeats every \\\\(2\\pi\\\\) we will have roughly 12 samples between the cycles repeat. This can be seen in the ACF below."
   ]
  },
  {
   "cell_type": "code",
   "execution_count": 0,
   "metadata": {
    "application/vnd.databricks.v1+cell": {
     "cellMetadata": {
      "byteLimit": 2048000,
      "rowLimit": 10000
     },
     "inputWidgets": {},
     "nuid": "9ff2f1c4-73e3-4b46-b019-5d3fb01d26cf",
     "showTitle": false,
     "tableResultSettingsMap": {},
     "title": ""
    }
   },
   "outputs": [],
   "source": [
    "import numpy as np\n",
    "import matplotlib.pyplot as plt\n",
    "from statsmodels.tsa.stattools import acf\n",
    "\n",
    "N = 10000\n",
    "\n",
    "mu, sigma = 0, 1\n",
    "phi_1, phi_2 = 1.5, -0.75\n",
    "w = np.random.normal(mu, sigma, N)\n",
    "x = np.zeros(N)\n",
    "\n",
    "for i in range(2, N):\n",
    "    x[i] = phi_1 * x[i-1] + phi_2 * x[i-2] + w[i]\n",
    "\n",
    "plt.figure()\n",
    "plt.plot(x)\n",
    "plt.title(f\"Realization of AR(2)\")\n",
    "plt.xlabel(\"Sample\")\n",
    "plt.ylabel(\"Value\")\n",
    "\n",
    "plt.figure()\n",
    "plt.plot(acf(x, nlags=plot_lags), \"-*\", label=\"Calculated value\")\n",
    "plt.scatter([lag for lag in range(plot_lags+1)],[theoretical_acf(lag, phi_1, phi_2) for lag in range(plot_lags+1)], color=\"red\", label=\"Theoretical value\")\n",
    "plt.title(f\"Autocorrelation of AR(2) with complex roots\")\n",
    "plt.xlabel(\"Lag\")\n",
    "plt.ylabel(\"Value\")\n",
    "plt.legend()"
   ]
  }
 ],
 "metadata": {
  "application/vnd.databricks.v1+notebook": {
   "computePreferences": null,
   "dashboards": [],
   "environmentMetadata": {
    "base_environment": "",
    "environment_version": "2"
   },
   "inputWidgetPreferences": null,
   "language": "python",
   "notebookMetadata": {
    "pythonIndentUnit": 4
   },
   "notebookName": "Difference equations",
   "widgets": {}
  },
  "language_info": {
   "name": "python"
  }
 },
 "nbformat": 4,
 "nbformat_minor": 0
}
