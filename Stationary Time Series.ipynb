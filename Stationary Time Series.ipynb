{
 "cells": [
  {
   "cell_type": "markdown",
   "metadata": {
    "application/vnd.databricks.v1+cell": {
     "cellMetadata": {
      "byteLimit": 2048000,
      "rowLimit": 10000
     },
     "inputWidgets": {},
     "nuid": "122e5840-7f57-4d16-abb6-43285db4a45f",
     "showTitle": false,
     "tableResultSettingsMap": {},
     "title": ""
    }
   },
   "source": [
    "**Definition - Stricly stationary process**\n",
    "\n",
    "A process is said to be strictly stationary if it's probability density function \\\\(P(x_{t_{1}}, x_{t_{2}} ... x_{t_{k})})\\\\) is identical to that of a shifted series. \n",
    "\n",
    "$$P(x_{t_{1}}, x_{t_{2}} ... x_{t_{k})})=P(x_{t_\\{1+h}}, x_{t_\\{2+h}} ... x_{t_\\{k+h})})$$\n",
    "\n",
    "Few series are strictly stationary so having a less restrictive definition can be beneficial.\n",
    "\n",
    "**Definition - Weakly stationary**\n",
    "\n",
    "A process is said to be weakly stationary if bothe the following is satisfied:\n",
    "- The mean value \\\\(\\mu_{t}\\\\) is constant and does not depend on t and is denoted \\\\( \\mu_{t}=\\mu\\\\)\n",
    "- The autocovariance function \\\\(\\gamma_{s,t}\\\\) only depends on the difference  \\\\(\\left| s-t \\right|\\\\)\n",
    "\n",
    "**Definition - Autocovariance of a stationary time series**\n",
    "\n",
    "Since the autocovariance only depends on \\\\(\\left| s-t \\right|\\\\) we set \\\\(s=t+h\\\\) and the autocovariance becomes.\n",
    "\n",
    "$$\\gamma(t+h,t)=cov(x_\\{t+h},x_\\{t})=cov(x_\\{h},x_\\{0})=\\gamma(h,0)$$\n",
    "\n",
    "The definition of the autocovariance of a stationary process then becomes\n",
    "\n",
    "$$\\gamma(h)=cov(x_\\{t+h},x_\\{t})=E[((x_\\{t+h})-\\mu)((x_\\{t})-\\mu)]$$\n",
    "\n",
    "**Definition - Autocorrelation of a stationary time series**\n",
    "\n",
    "Corresponding to the autocovariance, the autocorrelation becomes\n",
    "\n",
    "$$\\rho(t+h,t)=\\rho(h,0)=\\frac{\\gamma(h,0)}{\\gamma(0,0)}=\\frac{\\gamma(h)}{\\gamma(0)}$$\n",
    "\n",
    "The autocorrelation is symmetric around the origin \\\\(\\rho(h)=\\rho(-h)\\\\)"
   ]
  }
 ],
 "metadata": {
  "application/vnd.databricks.v1+notebook": {
   "computePreferences": null,
   "dashboards": [],
   "environmentMetadata": {
    "base_environment": "",
    "environment_version": "2"
   },
   "inputWidgetPreferences": null,
   "language": "python",
   "notebookMetadata": {
    "pythonIndentUnit": 4
   },
   "notebookName": "Stationary Time Series",
   "widgets": {}
  },
  "language_info": {
   "name": "python"
  }
 },
 "nbformat": 4,
 "nbformat_minor": 0
}
