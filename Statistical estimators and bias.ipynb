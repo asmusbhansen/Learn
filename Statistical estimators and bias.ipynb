{
 "cells": [
  {
   "cell_type": "markdown",
   "metadata": {
    "application/vnd.databricks.v1+cell": {
     "cellMetadata": {},
     "inputWidgets": {},
     "nuid": "37fabfc4-28a7-43ac-8970-02b61f6e5865",
     "showTitle": false,
     "tableResultSettingsMap": {},
     "title": ""
    }
   },
   "source": [
    "\n",
    "**Definition - Unbiased sample mean estimator**\n",
    "\n",
    "The sample mean of a random variable  \\\\(X\\\\) given a realization \\\\(x=X(\\omega)\\\\) where \\\\(\\omega\\\\) sample in the total sample space \\\\(\\omega \\in \\Omega \\\\) can be estimated by.\n",
    "\n",
    "$$\\overline x = \\frac{1}{n} \\sum_\\{i=1}^n x_{i}$$\n",
    "\n",
    "**Definition - Bias of sample mean estimator**\n",
    "\n",
    "The bias of the sample mean estimator is defined as the expected value of the sample mean estimator minus the true value of the sample mean\n",
    "\n",
    "$$Bias_\\{\\overline x} =  E[\\overline x] - \\mu_x$$\n",
    "\n",
    "The expected value of the sample mean estimator is given as \n",
    "\n",
    "$$E[\\overline x]=E[\\frac{1}{n} \\sum_\\{i=1}^n x_{i}]=\\frac{1}{n} \\sum_\\{i=1}^n E[x_{i}]=\\frac{1}{n} \\sum_\\{i=1}^n \\mu_{x}=\\frac{1}{n} n \\mu_{x}=\\mu_{x}$$\n",
    "\n",
    "Since the expected value of the sample mean estimator is the true sample mean, it's an unbiased estimator.\n",
    "\n",
    "**Definition - Unbiased sample variance estimator**\n",
    "\n",
    "The sample variance of a random variable \\\\(X\\\\) given a realization \\\\(x=X(\\omega)\\\\) where \\\\(\\omega\\\\) sample in the total sample space \\\\(\\omega \\in \\Omega \\\\) can be estimated by.\n",
    "\n",
    "$$\\overline \\sigma_{x}^2 = \\frac{1}{n-1} \\sum_\\{i=1}^n (x_{i}-\\overline x)^2$$\n",
    "\n",
    "**Definition - Bias of sample variance estimator**\n",
    "\n",
    "The bias of the sample variance estimator is defined as the expected value of the sample variance estimator minus the true value of the sample variance\n",
    "\n",
    "$$Bias_\\{\\overline \\sigma_{x}^2} =  E[\\overline \\sigma_{x}^2] - \\sigma_{x}^2$$\n",
    "\n",
    "The expected value of the sample variance estimator is given as \n",
    "\n",
    "$$E[\\overline \\sigma_{x}^2]=E[\\frac{1}{n-1} \\sum_\\{i=1}^n (x_{i}-\\overline x)^2]=\\frac{1}{n-1} \\sum_\\{i=1}^n E[x_{i}^2-2 \\overline x x_{i}+ \\overline x ^2]$$\n",
    "\n",
    "Since \\\\(E[x_{i}^2]=\\sigma_{x}^2+\\mu_{x}^2\\\\), \\\\(E[x_{i} \\overline x]=\\frac{\\sigma_{x}^2}{n}+\\mu_x^2\\\\) and \\\\(E[\\overline x ^2]=\\frac{\\sigma_{x}^2}{n}+\\mu_x^2\\\\) this can be rewritten to\n",
    "\n",
    "$$E[\\overline \\sigma_{x}^2]=\\frac{1}{n-1} \\sum_\\{i=1}^n (\\sigma_{x}^2+\\mu_{x}^2-\\frac{2\\sigma_{x}^2}{n}-2\\mu_x^2+\\frac{\\sigma_{x}^2}{n}+\\mu_x^2)=\\frac{1}{n-1} \\sum_\\{i=1}^n (\\sigma_{x}^2-\\frac{\\sigma_{x}^2}{n})=\\frac{n}{n-1} \\sigma_{x}^2\\frac{n-1}{n}=\\sigma_{x}^2$$\n",
    "\n",
    "Since the expected value of the sample variance estimator is the true sample variance it's an unbiased estimator.\n",
    "\n",
    "**Biased sample variance estimator**\n",
    "\n",
    "The biased sample variance estimator is defined as \n",
    "\n",
    "$$\\overline \\sigma_{x}^2 = \\frac{1}{n} \\sum_\\{i=1}^n (x_{i}-\\overline x)^2$$\n",
    "\n",
    "This will have an expected value of \n",
    "\n",
    "$$E[\\overline \\sigma_{x}^2]=\\sigma_{x}^2\\frac{n-1}{n}$$\n",
    "\n",
    "This will converge towards \\\\(\\sigma_{x}^2\\\\) for large number of samples"
   ]
  },
  {
   "cell_type": "code",
   "execution_count": 0,
   "metadata": {
    "application/vnd.databricks.v1+cell": {
     "cellMetadata": {
      "byteLimit": 2048000,
      "rowLimit": 10000
     },
     "inputWidgets": {},
     "nuid": "412d927e-8378-483b-b7eb-9f2f0d583528",
     "showTitle": false,
     "tableResultSettingsMap": {},
     "title": ""
    }
   },
   "outputs": [],
   "source": [
    "import numpy as np\n",
    "import matplotlib.pyplot as plt"
   ]
  },
  {
   "cell_type": "code",
   "execution_count": 0,
   "metadata": {
    "application/vnd.databricks.v1+cell": {
     "cellMetadata": {
      "byteLimit": 2048000,
      "rowLimit": 10000
     },
     "inputWidgets": {},
     "nuid": "c52c6884-febd-42ae-9f73-20afa3ea81f1",
     "showTitle": false,
     "tableResultSettingsMap": {},
     "title": ""
    }
   },
   "outputs": [],
   "source": [
    "def variance_estimator(x, biased=False):\n",
    "    n = len(x)\n",
    "    mean = np.mean(x)\n",
    "    if biased:\n",
    "        return 1/n*np.sum((x-mean)**2)\n",
    "    else:\n",
    "        return 1/(n-1)*np.sum((x-mean)**2)"
   ]
  },
  {
   "cell_type": "code",
   "execution_count": 0,
   "metadata": {
    "application/vnd.databricks.v1+cell": {
     "cellMetadata": {
      "byteLimit": 2048000,
      "rowLimit": 10000
     },
     "inputWidgets": {},
     "nuid": "f809d1a4-4c90-4bf2-8f29-194f3a8d3f83",
     "showTitle": false,
     "tableResultSettingsMap": {},
     "title": ""
    }
   },
   "outputs": [],
   "source": [
    "num_samples = [10 * i for i in range (1,20)]\n",
    "var_estimates_biased = []\n",
    "var_estimates_unbiased = []\n",
    "test = 10000\n",
    "mu, sigma = 0, 1\n",
    "\n",
    "for num_sample in num_samples:\n",
    "\n",
    "    var_estimate_biased = 0\n",
    "    var_estimate_unbiased = 0\n",
    "    for i in range(test):\n",
    "        x = np.random.normal(mu, sigma, num_sample)\n",
    "        var_estimate_biased += variance_estimator(x, biased=True)\n",
    "        var_estimate_unbiased += variance_estimator(x)\n",
    "\n",
    "    var_estimates_biased += [var_estimate_biased/test]\n",
    "    var_estimates_unbiased += [var_estimate_unbiased/test]\n",
    "\n",
    "plt.figure()\n",
    "plt.plot(num_samples, np.abs(sigma-np.array(var_estimates_biased)), label=\"Biased variance estimates mean error\")\n",
    "plt.plot(num_samples, np.abs(sigma-np.array(var_estimates_unbiased)), label=\"Unbiased variance estimates mean error\")\n",
    "plt.legend()\n",
    "plt.xlabel(\"Number of samples\")\n",
    "plt.ylabel(\"Variance estimate\")\n",
    "plt.title(\"Variance estimation\")"
   ]
  }
 ],
 "metadata": {
  "application/vnd.databricks.v1+notebook": {
   "computePreferences": null,
   "dashboards": [],
   "environmentMetadata": {
    "base_environment": "",
    "environment_version": "2"
   },
   "inputWidgetPreferences": null,
   "language": "python",
   "notebookMetadata": {
    "pythonIndentUnit": 4
   },
   "notebookName": "Statistical estimators and bias",
   "widgets": {}
  },
  "language_info": {
   "name": "python"
  }
 },
 "nbformat": 4,
 "nbformat_minor": 0
}
