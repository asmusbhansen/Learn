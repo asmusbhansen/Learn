{
 "cells": [
  {
   "cell_type": "code",
   "execution_count": 0,
   "metadata": {
    "application/vnd.databricks.v1+cell": {
     "cellMetadata": {
      "byteLimit": 2048000,
      "rowLimit": 10000
     },
     "inputWidgets": {},
     "nuid": "07f88b25-62e7-4769-a40f-b6e54880d3a1",
     "showTitle": false,
     "tableResultSettingsMap": {},
     "title": ""
    }
   },
   "outputs": [],
   "source": [
    "import numpy as np\n",
    "from scipy import signal\n",
    "import matplotlib.pyplot as plt"
   ]
  },
  {
   "cell_type": "markdown",
   "metadata": {
    "application/vnd.databricks.v1+cell": {
     "cellMetadata": {
      "byteLimit": 2048000,
      "rowLimit": 10000
     },
     "inputWidgets": {},
     "nuid": "0f655318-12c9-4653-8593-9679fb01afd9",
     "showTitle": false,
     "tableResultSettingsMap": {},
     "title": ""
    }
   },
   "source": [
    "\n",
    "**Definition - One sided Z-transform**\n",
    "\n",
    "The one sided z-transform is defined as \n",
    "\n",
    "$$ X(z) = Z[x[n]] = \\sum_{n=0}^{\\infin} x[n]z^{-n} $$\n",
    "\n",
    "The z-transform is used to find exponentially increasing or decreasing oscillations in a signal.\n",
    "\n",
    "This is used in discrete systems to evaluate their stability, frequency response and many other properties.\n",
    "\n",
    "The \"n\" in the z-transform is the sample number\n",
    "\n",
    "**Example - Z-transform of a simple signal**\n",
    "\n",
    "Consider the signal \\\\(x=[4,-1, 6,-3, 5]\\\\)\n",
    "\n",
    "Taking the z-transform, for the DC component \\\\(z=1\\\\) yields\n",
    "\n",
    "$$ X(1)=4*1 + (-1) * 1 + 6 * 1 + (-3) * 1 + 5 * 1 = 11$$\n",
    "\n",
    "This makes sense, since the mean value is above zero for the signal, meaning it has a DC component.\n",
    "\n",
    "For the signal \\\\(x=[4,-1, 6,-3, -6]\\\\) we would have the z-transform \n",
    "\n",
    "$$ X(1)=4*1 + (-1) * 1 + 6 * 1 + (-3) * 1 + (-6) * 1 = 0$$\n",
    "\n",
    "Here the mean value is zero, and the z-transform correctly tells us that there is no correlation with the DC component\n",
    "\n",
    "**Definition - Z**\n",
    "\n",
    "The number \\\\(z\\\\) in the z-transform should be able to represent both exponentially increasing and decreasing oscillations, which means that the variable \\\\(z\\\\) is a complex number.\n",
    "\n",
    "$$ z = r e^{j \\omega} $$\n",
    "\n",
    "Here \\\\(r\\\\) is a real number representing the magnitude of the signal and \\\\(\\omega\\\\) is the angular frequency in radians/sample.\n",
    "\n",
    "When \\\\(z\\\\) is raised to the power of \\\\(-n\\\\) something interesting happens. It can be written as \n",
    "\n",
    "$$ z^{-n} = (r e^{j \\omega })^{-n} = r^{-n} e^{-j \\omega n} $$\n",
    "\n",
    "\n",
    "Here we see that the magnitude will decrease with \\\\(n\\\\) if \\\\(r>1\\\\). If \\\\(r=1\\\\) then the magnitude will be unchanged."
   ]
  },
  {
   "cell_type": "markdown",
   "metadata": {
    "application/vnd.databricks.v1+cell": {
     "cellMetadata": {
      "byteLimit": 2048000,
      "rowLimit": 10000
     },
     "inputWidgets": {},
     "nuid": "3eaf1e29-f131-4a30-85e6-e4f9925b1e60",
     "showTitle": false,
     "tableResultSettingsMap": {},
     "title": ""
    }
   },
   "source": [
    "\n",
    "**Definition - Normalized frequency**\n",
    "\n",
    "If we have a frequency of \\\\(\\omega=\\frac{\\pi}{4}[radians]/[sample]\\\\) and a complete cycle of a sinusoid is \\\\(2 \\pi [radians]\\\\) we must have 8 samples in a cycle.\n",
    "\n",
    "$$ 2 \\pi[radians]/[cycle] * \\frac{4}{\\pi} [sample]/[radians] = 8 [samples]/[cycles] $$\n",
    "\n",
    "This means that the period is \\\\(8T\\\\) where \\\\(T\\\\) is the sampling interval and \\\\(f_s=\\frac{1}{T}\\\\) is the sampling interval. The frequency of the sinusoid can then be expressed as \\\\(f_{sin}=\\frac{1}{8T}[Hz]=\\frac{1}{8}\\frac{1}{T}[Hz]=\\frac{f_s}{8}[Hz]\\\\)\n",
    "\n",
    "Here we see that the frequency of the sinusoid depends on \\\\(f_s\\\\) and the normalized freqeuncy is defined as.\n",
    "\n",
    "$$ f_{norm} = \\frac{f}{f_s}$$\n",
    "\n",
    "Rewriting the frequency of the sinusoid we have \n",
    "\n",
    "$$ f_{norm} [cycles]/[sample] = \\frac{f[cycles]/[second]}{f_s [samples]/[second]}= \\frac{1}{8} [cycles]/[sample] $$\n",
    "\n",
    "The same thing can be done for angular frequency where \\\\(\\omega_{norm} = \\frac{\\omega}{f_S} [radians][sample]\\\\)"
   ]
  },
  {
   "cell_type": "code",
   "execution_count": 0,
   "metadata": {
    "application/vnd.databricks.v1+cell": {
     "cellMetadata": {
      "byteLimit": 2048000,
      "rowLimit": 10000
     },
     "inputWidgets": {},
     "nuid": "b5a89eb1-0100-4f34-87c8-1da21f364ff0",
     "showTitle": false,
     "tableResultSettingsMap": {},
     "title": ""
    }
   },
   "outputs": [],
   "source": [
    "omega = np.pi/4\n",
    "x = np.arange(16)\n",
    "s = np.cos(x*omega)\n",
    "\n",
    "plt.figure()\n",
    "plt.plot(x, s, \"-*\", label=\"Cosine\")\n",
    "plt.title(\"Two cycles of a cosine\")"
   ]
  },
  {
   "cell_type": "code",
   "execution_count": 0,
   "metadata": {
    "application/vnd.databricks.v1+cell": {
     "cellMetadata": {
      "byteLimit": 2048000,
      "rowLimit": 10000
     },
     "inputWidgets": {},
     "nuid": "ca933706-c368-4a71-be2b-ea8b4004020f",
     "showTitle": false,
     "tableResultSettingsMap": {},
     "title": ""
    }
   },
   "outputs": [],
   "source": [
    "### The purpose of this example is to illustrate the z-transform using three different values of r and omega\n",
    "\n",
    "def plot_z_transform(r, omega, N):\n",
    "\n",
    "    n = np.arange(N)\n",
    "\n",
    "    y = 1.0/(r**n) * np.exp(-1j * omega * n)\n",
    "\n",
    "    plt.figure()\n",
    "    plt.plot(n, np.real(y), \"-*\", label=\"Real part\")\n",
    "    plt.plot(n, np.imag(y), \"-*\", label=\"Imaginary part\")\n",
    "    plt.title(f\"r = {r}, omega = {omega:.3f}, N = {N}\")\n",
    "    plt.xlabel(\"Samples\")\n",
    "    plt.ylabel(\"Magnitude\")\n",
    "    plt.legend()\n",
    "\n",
    "plot_z_transform(1.1, np.pi/4, 20)\n",
    "plot_z_transform(1.0, np.pi/8, 20)\n",
    "plot_z_transform(0.9, np.pi/5, 20)\n"
   ]
  },
  {
   "cell_type": "markdown",
   "metadata": {
    "application/vnd.databricks.v1+cell": {
     "cellMetadata": {
      "byteLimit": 2048000,
      "rowLimit": 10000
     },
     "inputWidgets": {},
     "nuid": "4723b48f-8a7b-4dc6-a4a9-720fc7d28a5c",
     "showTitle": false,
     "tableResultSettingsMap": {},
     "title": ""
    }
   },
   "source": [
    "\n",
    "**Example - Z-transform of as system impulse response**\n",
    "\n",
    "Given a system described by the function \\\\(y_n=0.2x_n+0.4x_{n-1}\\\\) we can calculate the impulse response as \n",
    "\n",
    "$$ h = [0.2, 0.4, 0, 0, 0] $$\n",
    "\n",
    "The z-transform of this impulse response defined as\n",
    "\n",
    "$$ H(z) = \\sum_{n=0}^\\infin h[n] x^{-n} $$\n",
    "\n",
    "And can be calculated to\n",
    "\n",
    "$$ H(z) = 0.2z^{-0}+0.4z^{-1}$$\n",
    "\n",
    "By plotting different values of z into this equation, we can visualize the repsonse of the system\n"
   ]
  },
  {
   "cell_type": "code",
   "execution_count": 0,
   "metadata": {
    "application/vnd.databricks.v1+cell": {
     "cellMetadata": {
      "byteLimit": 2048000,
      "rowLimit": 10000
     },
     "inputWidgets": {},
     "nuid": "72cff917-8abd-451c-8a41-0d8ffa3235c0",
     "showTitle": false,
     "tableResultSettingsMap": {},
     "title": ""
    }
   },
   "outputs": [],
   "source": [
    "## This example visualized the response of a system, using the impulse response and the z-transform\n",
    "# It can be seen that the system has a pole(positive infinite value ) at the origin and a zero(negative infinite value) at -2+0j\n",
    "\n",
    "def z_transform(h , realv, imagv, limit=None):\n",
    "\n",
    "    result = np.zeros_like(realv) + 0.0+0.0j\n",
    "\n",
    "    for n, h_n in enumerate(h):\n",
    "        if limit is not None and np.any(result > limit):\n",
    "            break\n",
    "        result += h_n * (realv+1j*imagv)**(-n)\n",
    "        \n",
    "    return result\n",
    "\n",
    "points = 100\n",
    "real = np.linspace(-2, 2, points)\n",
    "imag = np.linspace(-2, 2, points)\n",
    "realv, imagv = np.meshgrid(real, imag)\n",
    "\n",
    "h = [0.2, 0.4]\n",
    "\n",
    "h_z = z_transform(h, realv, imagv)\n",
    "\n",
    "plt.contourf(realv, imagv, 20*np.log10(np.abs(h_z)))\n",
    "plt.axis('scaled')\n",
    "plt.colorbar()\n",
    "plt.show()\n",
    "\n"
   ]
  },
  {
   "cell_type": "markdown",
   "metadata": {
    "application/vnd.databricks.v1+cell": {
     "cellMetadata": {
      "byteLimit": 2048000,
      "rowLimit": 10000
     },
     "inputWidgets": {},
     "nuid": "cdafaed6-d34b-4d33-8527-df8296b1dc9e",
     "showTitle": false,
     "tableResultSettingsMap": {},
     "title": ""
    }
   },
   "source": [
    "\n",
    "**Definition - Region of Convergence(ROC)**\n",
    "\n",
    "Consider the system \n",
    "\n",
    "$$ y_n = x_n + 0.5 y_{n-1} $$\n",
    "\n",
    "Here we have a feedback loop in the \\\\(0.5 y_{n-1}\\\\) term. This term will cause the impulse response of a system to be inifinite. \n",
    "\n",
    "_ROC Property 1_\n",
    "\n",
    "The impulse response of a system is absolutely summable\n",
    "\n",
    "$$ |X(z)| < \\infin $$\n",
    "\n",
    "_ROC Property 2_\n",
    "\n",
    "There can be no poles in the ROC, since by definition a, the response of the system at a pole is infinite.\n",
    "\n",
    "_ROC Property 3_\n",
    "\n",
    "For a system with inifinte impulse response, there will be a cicrcle around the origin where the impulse response is NOT absolutely summable.\n",
    "\n",
    "_ROC Property 4_\n",
    "\n",
    "If the regions of convergence does not include the unit circle, the system is unstable."
   ]
  },
  {
   "cell_type": "code",
   "execution_count": 0,
   "metadata": {
    "application/vnd.databricks.v1+cell": {
     "cellMetadata": {
      "byteLimit": 2048000,
      "rowLimit": 10000
     },
     "inputWidgets": {},
     "nuid": "5c1ced1a-c6cd-4746-9e52-3d31ee139523",
     "showTitle": false,
     "tableResultSettingsMap": {},
     "title": ""
    }
   },
   "outputs": [],
   "source": [
    "## This example illustrates the region of convergence.\n",
    "# Here is is seen that there is a region where the impulse repsonse does not converge.\n",
    "\n",
    "# Generate the impulse response\n",
    "x = np.zeros(1000)\n",
    "x[0] = 1\n",
    "h = signal.lfilter([1], [1, -0.5], x)\n",
    "\n",
    "# Plot the z transform and the region of convergence\n",
    "points = 100\n",
    "real = np.linspace(-2, 2, points)\n",
    "imag = np.linspace(-2, 2, points)\n",
    "realv, imagv = np.meshgrid(real, imag)\n",
    "\n",
    "h_z = z_transform(h, realv, imagv)\n",
    "\n",
    "plt.figure()\n",
    "plt.contourf(realv, imagv, 20*np.log10(np.abs(h_z)))\n",
    "plt.axis('scaled')\n",
    "plt.colorbar()\n",
    "plt.show()"
   ]
  },
  {
   "cell_type": "markdown",
   "metadata": {
    "application/vnd.databricks.v1+cell": {
     "cellMetadata": {
      "byteLimit": 2048000,
      "rowLimit": 10000
     },
     "inputWidgets": {},
     "nuid": "5de157f1-80e9-443c-8cfc-c63cd3d5ad7b",
     "showTitle": false,
     "tableResultSettingsMap": {},
     "title": ""
    }
   },
   "source": [
    "\n",
    "\n",
    "**Time shifting property**\n",
    "\n",
    "Shifting a signal \\\\(x[n]\\\\) by some constant \\\\(k\\\\) yields a multiplication by \\\\(z^{-k}\\\\) in the z domain.\n",
    "\n",
    "$$ X(z)z^{-k} = \\sum_{n=0}^\\infin x[n-k] z^{-n} $$\n",
    "\n",
    "**Time shifting property example**\n",
    "\n",
    "Consider the signal $$x = [3, -1, 2, 1, 0, 0]$$\n",
    "\n",
    "And the delayed version \\\\(w[n-2]\\\\)\n",
    "\n",
    "$$w = [0, 0, 3, -1, 2, 1]$$\n",
    "\n",
    "Taking the z transform of x yields\n",
    "\n",
    "$$X = [3z^{-0}-1z^{-1}+2z^{-2}+1z^{-3}] $$\n",
    "\n",
    "Taking the z transform of w yields\n",
    "\n",
    "$$X = [3z^{-2}-1z^{-3}+2z^{-4}+1z^{-5}] = [3z^{-0}z^{-2}-1z^{-1}z^{-2}+2z^{-2}z^{-2}+1z^{-3}z^{-2}] $$\n",
    "\n",
    "Here it is seen that the z transform of w is the same as the tranformed version of x, only multiplied by \\\\(z^{-2}\\\\)\n",
    "\n",
    "This property is only valid if the transform converges!\n"
   ]
  },
  {
   "cell_type": "markdown",
   "metadata": {
    "application/vnd.databricks.v1+cell": {
     "cellMetadata": {
      "byteLimit": 2048000,
      "rowLimit": 10000
     },
     "inputWidgets": {},
     "nuid": "f7e9191e-f18c-4edd-9e6b-024554324f54",
     "showTitle": false,
     "tableResultSettingsMap": {},
     "title": ""
    }
   },
   "source": [
    "**Linear property**\n",
    "\n",
    "The z transform of the sum of two signals, each scaled by a constant, is the same as the sum of their z transform scaled by the same constant. \n",
    "\n",
    "If \n",
    "\n",
    "$$ X(z) = \\sum_{n=0}^\\infin x[n] z^{-n} $$\n",
    "\n",
    "And\n",
    "\n",
    "$$ Y(z) = \\sum_{n=0}^\\infin y[n] z^{-n} $$\n",
    "\n",
    "Then the following is true \n",
    "\n",
    "$$ c_1 x(z) + c_2 Y(z) =  \\sum_{n=0}^\\infin (c_1x[n] + c_2y[n]) z^{-n} $$\n",
    "\n",
    "**Linear propery example**\n",
    "\n",
    "Consider the signals $$x = [3, -1, 2, 1]$$ $$w = [1, 1, 1, 1]$$ $$y = x+w = [4, 0, 3, 2]$$\n",
    "\n",
    "And their z transforms\n",
    "\n",
    "$$ X = [3z^{-0}-1z^{-1}+2z^{-2}+1z^{-3}] $$ \n",
    "$$ W = [1z^{-0}+1z^{-1}+1z^{-2}+1z^{-3}] $$ \n",
    "$$ Y = [4z^{-0}+0z^{-1}+3z^{-2}+2z^{-3}] $$\n",
    "\n",
    "Here it is clearly seen that \\\\(Y = X + W\\\\)\n",
    "\n",
    "This property is only valid if the transform converges!"
   ]
  },
  {
   "cell_type": "markdown",
   "metadata": {
    "application/vnd.databricks.v1+cell": {
     "cellMetadata": {
      "byteLimit": 2048000,
      "rowLimit": 10000
     },
     "inputWidgets": {},
     "nuid": "4ec4903a-e903-4754-b24c-b8b737eebd3d",
     "showTitle": false,
     "tableResultSettingsMap": {},
     "title": ""
    }
   },
   "source": [
    "**Analysis of difference equations**\n",
    "\n",
    "The time shifting property and the linearity property can be used to analyze difference equations using the z transform\n",
    "\n",
    "Consider the difference equation\n",
    "\n",
    "$$ y[n] = x[n] - 0.2 x[n-1] - 0.8 x[n-2] + 0.05 y[n-1] + 0.03 y[n-2]$$\n",
    "\n",
    "The z transform can be calculated using the two properties\n",
    "\n",
    "$$ Y(z) = X(z) - 0.2 X(z)z^{-1} - 0.8 X(z)z^{-2} + 0.05 Y(z)z^{-1} + 0.03 Y(z)z^{-2}$$\n",
    "\n",
    "To find the transfer function \\\\(H(z)=\\frac{Y(z)}{X(z)}\\\\) we rearrange and  factor out \\\\(X(z)\\\\) and \\\\(Y(z)\\\\).\n",
    "\n",
    "$$ Y(z)(1 - 0.05 z^{-1} - 0.03 z^{-2})= X(z)(1 - 0.2 z^{-1} - 0.8 z^{-2})$$\n",
    "\n",
    "$$ \\frac{Y(z)}{X(z)} = \\frac{(1 - 0.2 z^{-1} - 0.8 z^{-2})}{(1 - 0.05 z^{-1} - 0.03 z^{-2})} $$\n",
    "\n",
    "Finding the poles of the transfer function is done by either setting the numerator equal to zero and solving for z or simply facoring the expressions.\n",
    "\n",
    "$$ \\frac{Y(z)}{X(z)} = \\frac{(1 - 0.2 z^{-1} - 0.8 z^{-2})}{(1 - 0.05 z^{-1} - 0.03 z^{-2})} = \\frac{(z - 1) (z + 0.8)}{(z - 0.2) (z + 0.15)}$$\n",
    "\n",
    "This yields zeros at \\\\(z=1\\\\) and \\\\(z=-0.8\\\\) and poles at \\\\(z=0.2\\\\) and \\\\(z=-0.15\\\\)\n",
    "\n",
    "\n",
    "\n"
   ]
  },
  {
   "cell_type": "code",
   "execution_count": 0,
   "metadata": {
    "application/vnd.databricks.v1+cell": {
     "cellMetadata": {
      "byteLimit": 2048000,
      "rowLimit": 10000
     },
     "inputWidgets": {},
     "nuid": "db646123-662a-43aa-8630-bb36dba5d822",
     "showTitle": false,
     "tableResultSettingsMap": {},
     "title": ""
    }
   },
   "outputs": [],
   "source": [
    "## This example illustrates the analysis of difference equations\n",
    "\n",
    "# Generate the impulse response\n",
    "x = np.zeros(1000)\n",
    "x[0] = 1\n",
    "h = signal.lfilter([1, -0.2, -0.8], [1, -0.05, -0.03], x)\n",
    "\n",
    "# Plot the z transform and the region of convergence\n",
    "points = 100\n",
    "real = np.linspace(-1.2, 1.2, points)\n",
    "imag = np.linspace(-1, 1, points)\n",
    "realv, imagv = np.meshgrid(real, imag)\n",
    "\n",
    "h_z = z_transform(h, realv, imagv)\n",
    "\n",
    "plt.figure()\n",
    "plt.contourf(realv, imagv, 20*np.log10(np.abs(h_z)))\n",
    "plt.axis('scaled')\n",
    "plt.colorbar()\n",
    "plt.show()"
   ]
  }
 ],
 "metadata": {
  "application/vnd.databricks.v1+notebook": {
   "computePreferences": null,
   "dashboards": [],
   "environmentMetadata": {
    "base_environment": "",
    "environment_version": "2"
   },
   "inputWidgetPreferences": null,
   "language": "python",
   "notebookMetadata": {
    "pythonIndentUnit": 4
   },
   "notebookName": "The Z-transform",
   "widgets": {}
  },
  "language_info": {
   "name": "python"
  }
 },
 "nbformat": 4,
 "nbformat_minor": 0
}
