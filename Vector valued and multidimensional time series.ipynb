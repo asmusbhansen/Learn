{
 "cells": [
  {
   "cell_type": "markdown",
   "metadata": {
    "application/vnd.databricks.v1+cell": {
     "cellMetadata": {},
     "inputWidgets": {},
     "nuid": "4878f8f2-539b-4976-ae68-fa2a37983a45",
     "showTitle": false,
     "tableResultSettingsMap": {},
     "title": ""
    }
   },
   "source": [
    "**Definition - Vector time series**\n",
    "\n",
    "Consider \\\\(p\\\\) univariate time series, these can be written as  \n",
    "\n",
    "\\\\(\\mathbf{x}_t=(x_\\{t,1}, x_\\{t,2} .... x_\\{t,p})^T\\\\)\n",
    "\n",
    "For the stationary case, we have the \\\\(p \\times 1\\\\) mean vector which is \n",
    "$$\\mathbf{\\mu}=E[\\mathbf{x}_t]$$ and the \\\\(p \\times p\\\\) autocovariance covariance vector is defined as\n",
    "\n",
    "$$\\Gamma(h)=E[(\\mathbf{x}_\\{t+h} - \\mathbf{\\mu})(\\mathbf{x}_\\{t} - \\mathbf{\\mu})^T]$$\n",
    "\n",
    "Each element in \\\\(\\Gamma(h)\\\\) can be found as the cross covariance of series i with series j.\n",
    "\n",
    "$$\\gamma_\\{ij}(h)=E[(x_\\{t+h,i}-\\mu_i)(x_\\{t,j}-\\mu_j)]$$\n",
    "\n",
    "Which is defined for \\\\(i,j=1,2,3..p\\\\). Because \\\\(\\gamma_\\{ij}(h)=\\gamma_\\{ji}(-h)\\\\) we know that \\\\(\\Gamma(-h)=\\Gamma(h)^T\\\\)."
   ]
  },
  {
   "cell_type": "markdown",
   "metadata": {
    "application/vnd.databricks.v1+cell": {
     "cellMetadata": {},
     "inputWidgets": {},
     "nuid": "07200ba8-576e-4554-96a2-8996674fdd52",
     "showTitle": false,
     "tableResultSettingsMap": {},
     "title": ""
    }
   },
   "source": [
    "**Definition - Sample autocovariance matrix**\n",
    "\n",
    "The sample autocovariance matrix is defined as\n",
    "\n",
    "$$\\widehat \\Gamma(h)=\\frac{1}{n} \\sum_{t=1}^{n-h} (\\mathbf{x}_\\{t+h} - \\mathbf{\\overline x})(\\mathbf{x}_\\{t} - \\mathbf{\\overline x})^T$$"
   ]
  }
 ],
 "metadata": {
  "application/vnd.databricks.v1+notebook": {
   "computePreferences": null,
   "dashboards": [],
   "environmentMetadata": {
    "base_environment": "",
    "environment_version": "2"
   },
   "inputWidgetPreferences": null,
   "language": "python",
   "notebookMetadata": {
    "pythonIndentUnit": 4
   },
   "notebookName": "Vector valued and multidimensional time series",
   "widgets": {}
  },
  "language_info": {
   "name": "python"
  }
 },
 "nbformat": 4,
 "nbformat_minor": 0
}
